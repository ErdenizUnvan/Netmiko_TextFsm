{
 "cells": [
  {
   "cell_type": "code",
   "execution_count": null,
   "id": "a81f2d9a",
   "metadata": {},
   "outputs": [],
   "source": [
    "Switch2: 172.16.1.3\n",
    "\n",
    "username:admin\n",
    "password:cisco123\n",
    "secret: admin123"
   ]
  },
  {
   "cell_type": "code",
   "execution_count": null,
   "id": "18758283",
   "metadata": {},
   "outputs": [],
   "source": [
    "#https://pypi.org/project/netmiko/\n",
    "#https://ktbyers.github.io/netmiko/docs/netmiko/index.html\n",
    "#https://github.com/google/textfsm\n",
    "#https://github.com/ktbyers/netmiko/tree/master/netmiko\n",
    "#https://pyneng.readthedocs.io/en/latest/book/21_textfsm/textfsm_examples.html#"
   ]
  },
  {
   "cell_type": "code",
   "execution_count": 1,
   "id": "7a25d597",
   "metadata": {},
   "outputs": [
    {
     "name": "stdout",
     "output_type": "stream",
     "text": [
      "Cisco IOS Software, Solaris Software (I86BI_LINUXL2-ADVENTERPRISEK9-M), Experimental Version 15.1(20140814:053243) [mmen 112]\n",
      "Copyright (c) 1986-2014 by Cisco Systems, Inc.\n",
      "Compiled Thu 14-Aug-14 08:28 by mmen\n",
      "\n",
      "ROM: Bootstrap program is Linux\n",
      "\n",
      "SW1 uptime is 3 minutes\n",
      "System returned to ROM by reload at 0\n",
      "System image file is \"unix:/opt/unetlab/tmp/5/218/L2-ADVENTERPRISEK9-M.bin\"\n",
      "Last reload reason: Unknown reason\n",
      "\n",
      "\n",
      "\n",
      "This product contains cryptographic features and is subject to United\n",
      "States and local country laws governing import, export, transfer and\n",
      "use. Delivery of Cisco cryptographic products does not imply\n",
      "third-party authority to import, export, distribute or use encryption.\n",
      "Importers, exporters, distributors and users are responsible for\n",
      "compliance with U.S. and local country laws. By using this product you\n",
      "agree to comply with applicable laws and regulations. If you are unable\n",
      "to comply with U.S. and local laws, return this product immediately.\n",
      "\n",
      "A summary of U.S. laws governing Cisco cryptographic products may be found at:\n",
      "http://www.cisco.com/wwl/export/crypto/tool/stqrg.html\n",
      "\n",
      "If you require further assistance please contact us by sending email to\n",
      "export@cisco.com.\n",
      "\n",
      "Linux Unix (Intel-x86) processor with 975235K bytes of memory.\n",
      "Processor board ID 67555331\n",
      "4 Ethernet interfaces\n",
      "1 Virtual Ethernet interface\n",
      "1024K bytes of NVRAM.\n",
      "\n",
      "Configuration register is 0x0\n",
      "\n"
     ]
    }
   ],
   "source": [
    "from netmiko import Netmiko\n",
    "conn = Netmiko(host='172.16.1.3',\n",
    "               username='admin',\n",
    "               password='cisco123',\n",
    "               timeout=110,\n",
    "               port=22,\n",
    "               device_type='cisco_ios')\n",
    "output = conn.send_command('show version')\n",
    "print(output)\n",
    "conn.disconnect()"
   ]
  },
  {
   "cell_type": "code",
   "execution_count": 2,
   "id": "f5332107",
   "metadata": {},
   "outputs": [
    {
     "name": "stdout",
     "output_type": "stream",
     "text": [
      "[{'software_image': '', 'version': '', 'release': '', 'rommon': 'Bootstrap', 'hostname': 'SW1', 'uptime': '3 minutes', 'uptime_years': '', 'uptime_weeks': '', 'uptime_days': '', 'uptime_hours': '', 'uptime_minutes': '3', 'reload_reason': 'Unknown reason', 'running_image': '/opt/unetlab/tmp/5/218/L2-ADVENTERPRISEK9-M.bin', 'hardware': [], 'serial': ['67555331'], 'config_register': '0x0', 'mac_address': [], 'restarted': ''}]\n"
     ]
    }
   ],
   "source": [
    "from netmiko import Netmiko\n",
    "conn = Netmiko(host='172.16.1.3',\n",
    "               username='admin',\n",
    "               password='cisco123',\n",
    "               timeout=110,\n",
    "               port=22,\n",
    "               device_type='cisco_ios')\n",
    "output = conn.send_command('show version',use_textfsm=True)\n",
    "print(output)\n",
    "conn.disconnect()"
   ]
  },
  {
   "cell_type": "code",
   "execution_count": 3,
   "id": "c554172a",
   "metadata": {},
   "outputs": [
    {
     "data": {
      "text/plain": [
       "list"
      ]
     },
     "execution_count": 3,
     "metadata": {},
     "output_type": "execute_result"
    }
   ],
   "source": [
    "type(output)"
   ]
  },
  {
   "cell_type": "code",
   "execution_count": 4,
   "id": "1863602d",
   "metadata": {},
   "outputs": [
    {
     "data": {
      "text/plain": [
       "1"
      ]
     },
     "execution_count": 4,
     "metadata": {},
     "output_type": "execute_result"
    }
   ],
   "source": [
    "len(output)"
   ]
  },
  {
   "cell_type": "code",
   "execution_count": 5,
   "id": "a54dd370",
   "metadata": {},
   "outputs": [
    {
     "data": {
      "text/plain": [
       "{'software_image': '',\n",
       " 'version': '',\n",
       " 'release': '',\n",
       " 'rommon': 'Bootstrap',\n",
       " 'hostname': 'SW1',\n",
       " 'uptime': '3 minutes',\n",
       " 'uptime_years': '',\n",
       " 'uptime_weeks': '',\n",
       " 'uptime_days': '',\n",
       " 'uptime_hours': '',\n",
       " 'uptime_minutes': '3',\n",
       " 'reload_reason': 'Unknown reason',\n",
       " 'running_image': '/opt/unetlab/tmp/5/218/L2-ADVENTERPRISEK9-M.bin',\n",
       " 'hardware': [],\n",
       " 'serial': ['67555331'],\n",
       " 'config_register': '0x0',\n",
       " 'mac_address': [],\n",
       " 'restarted': ''}"
      ]
     },
     "execution_count": 5,
     "metadata": {},
     "output_type": "execute_result"
    }
   ],
   "source": [
    "output[0]"
   ]
  },
  {
   "cell_type": "code",
   "execution_count": 6,
   "id": "fbaf2b79",
   "metadata": {},
   "outputs": [
    {
     "data": {
      "text/plain": [
       "dict"
      ]
     },
     "execution_count": 6,
     "metadata": {},
     "output_type": "execute_result"
    }
   ],
   "source": [
    "type(output[0])"
   ]
  },
  {
   "cell_type": "code",
   "execution_count": 7,
   "id": "8596f49f",
   "metadata": {},
   "outputs": [
    {
     "data": {
      "text/plain": [
       "['67555331']"
      ]
     },
     "execution_count": 7,
     "metadata": {},
     "output_type": "execute_result"
    }
   ],
   "source": [
    "output[0]['serial']"
   ]
  },
  {
   "cell_type": "code",
   "execution_count": 8,
   "id": "b49dd4c5",
   "metadata": {},
   "outputs": [
    {
     "data": {
      "text/plain": [
       "'67555331'"
      ]
     },
     "execution_count": 8,
     "metadata": {},
     "output_type": "execute_result"
    }
   ],
   "source": [
    "output[0]['serial'][0]"
   ]
  },
  {
   "cell_type": "code",
   "execution_count": 9,
   "id": "c089b72d",
   "metadata": {},
   "outputs": [
    {
     "name": "stdout",
     "output_type": "stream",
     "text": [
      "configure terminal\n",
      "Enter configuration commands, one per line.  End with CNTL/Z.\n",
      "SW1(config)#vlan 1984\n",
      "SW1(config-vlan)#name GNU\n",
      "SW1(config-vlan)#vlan 1989\n",
      "SW1(config-vlan)#name Python\n",
      "SW1(config-vlan)#end\n",
      "SW1#\n"
     ]
    }
   ],
   "source": [
    "from netmiko import Netmiko\n",
    "conn = Netmiko(host='172.16.1.3',\n",
    "               username='admin',\n",
    "               password='cisco123',\n",
    "               timeout=110,\n",
    "               port=22,\n",
    "               device_type='cisco_ios')\n",
    "commands=['vlan 1984','name GNU','vlan 1989','name Python']\n",
    "output = conn.send_config_set(commands)\n",
    "print(output)\n",
    "conn.disconnect()"
   ]
  },
  {
   "cell_type": "code",
   "execution_count": 10,
   "id": "b2cab7c7",
   "metadata": {},
   "outputs": [
    {
     "name": "stdout",
     "output_type": "stream",
     "text": [
      "[{'vlan_id': '1', 'vlan_name': 'default', 'status': 'active', 'interfaces': ['Et0/0', 'Et0/1', 'Et0/2', 'Et0/3']}, {'vlan_id': '1002', 'vlan_name': 'fddi-default', 'status': 'act/unsup', 'interfaces': []}, {'vlan_id': '1003', 'vlan_name': 'token-ring-default', 'status': 'act/unsup', 'interfaces': []}, {'vlan_id': '1004', 'vlan_name': 'fddinet-default', 'status': 'act/unsup', 'interfaces': []}, {'vlan_id': '1005', 'vlan_name': 'trnet-default', 'status': 'act/unsup', 'interfaces': []}, {'vlan_id': '1984', 'vlan_name': 'GNU', 'status': 'active', 'interfaces': []}, {'vlan_id': '1989', 'vlan_name': 'Python', 'status': 'active', 'interfaces': []}]\n"
     ]
    }
   ],
   "source": [
    "from netmiko import ConnectHandler\n",
    "device={\n",
    "    'host':'172.16.1.3',\n",
    "    'port':22,\n",
    "    'username':'admin',\n",
    "    'password':'cisco123',\n",
    "    'device_type':'cisco_ios',\n",
    "}\n",
    "conn=ConnectHandler(**device)\n",
    "output = conn.send_command('show vlan brief',use_textfsm=True)\n",
    "print(output)\n",
    "conn.disconnect()"
   ]
  },
  {
   "cell_type": "code",
   "execution_count": 11,
   "id": "8ab46901",
   "metadata": {},
   "outputs": [
    {
     "data": {
      "text/plain": [
       "['1984', '1989']"
      ]
     },
     "execution_count": 11,
     "metadata": {},
     "output_type": "execute_result"
    }
   ],
   "source": [
    "vlan_id=[x['vlan_id'] for x in output if x['vlan_id'] not in ['1','1002','1003','1004','1005']]\n",
    "vlan_id"
   ]
  },
  {
   "cell_type": "code",
   "execution_count": null,
   "id": "1492aa95",
   "metadata": {},
   "outputs": [],
   "source": []
  }
 ],
 "metadata": {
  "kernelspec": {
   "display_name": "Python 3",
   "language": "python",
   "name": "python3"
  },
  "language_info": {
   "codemirror_mode": {
    "name": "ipython",
    "version": 3
   },
   "file_extension": ".py",
   "mimetype": "text/x-python",
   "name": "python",
   "nbconvert_exporter": "python",
   "pygments_lexer": "ipython3",
   "version": "3.8.8"
  }
 },
 "nbformat": 4,
 "nbformat_minor": 5
}
